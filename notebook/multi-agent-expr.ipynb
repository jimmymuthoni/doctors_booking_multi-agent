{
 "cells": [
  {
   "cell_type": "code",
   "execution_count": 1,
   "id": "d9f75c60",
   "metadata": {},
   "outputs": [
    {
     "name": "stdout",
     "output_type": "stream",
     "text": [
      "Hello! 👋  How can I help you today?\n",
      "\n"
     ]
    }
   ],
   "source": [
    "import os\n",
    "from langchain_groq import ChatGroq\n",
    "from langchain_openai import ChatOpenAI\n",
    "from dotenv import load_dotenv\n",
    "load_dotenv()\n",
    "\n",
    "#loading and setting keys as envronment varibales\n",
    "OPENAI_API_KEY = os.getenv(\"OPENAI_API_KEY\")\n",
    "os.environ['OPENAI_API_KEY'] = OPENAI_API_KEY\n",
    "QROQ_API_KEY = os.getenv(\"GROQ_API_KEY\")\n",
    "os.environ['QROQ_API_KEY'] = QROQ_API_KEY\n",
    "\n",
    "class LLMModel:\n",
    "    def __init__(self, model_name = 'gemma2-9b-it'):\n",
    "        if not model_name:\n",
    "            raise ValueError(\"Model is not defined\")\n",
    "        self.model_name = model_name\n",
    "        self.groq_model = ChatGroq(model=model_name)\n",
    "\n",
    "    def get_model(self):\n",
    "        return self.groq_model\n",
    "    \n",
    "if __name__ == \"__main__\":\n",
    "    llm_instance = LLMModel()\n",
    "    llm_model = llm_instance.get_model()\n",
    "    response = llm_model.invoke(\"hello \")\n",
    "\n",
    "    print(response.content)"
   ]
  },
  {
   "cell_type": "code",
   "execution_count": 2,
   "id": "acf37d6b",
   "metadata": {},
   "outputs": [
    {
     "data": {
      "text/html": [
       "<div>\n",
       "<style scoped>\n",
       "    .dataframe tbody tr th:only-of-type {\n",
       "        vertical-align: middle;\n",
       "    }\n",
       "\n",
       "    .dataframe tbody tr th {\n",
       "        vertical-align: top;\n",
       "    }\n",
       "\n",
       "    .dataframe thead th {\n",
       "        text-align: right;\n",
       "    }\n",
       "</style>\n",
       "<table border=\"1\" class=\"dataframe\">\n",
       "  <thead>\n",
       "    <tr style=\"text-align: right;\">\n",
       "      <th></th>\n",
       "      <th>date_slot</th>\n",
       "      <th>specialization</th>\n",
       "      <th>doctor_name</th>\n",
       "      <th>is_available</th>\n",
       "      <th>patient_to_attend</th>\n",
       "    </tr>\n",
       "  </thead>\n",
       "  <tbody>\n",
       "    <tr>\n",
       "      <th>0</th>\n",
       "      <td>05-08-2024 08:00</td>\n",
       "      <td>general_dentist</td>\n",
       "      <td>john doe</td>\n",
       "      <td>True</td>\n",
       "      <td>NaN</td>\n",
       "    </tr>\n",
       "    <tr>\n",
       "      <th>1</th>\n",
       "      <td>05-08-2024 08:30</td>\n",
       "      <td>general_dentist</td>\n",
       "      <td>john doe</td>\n",
       "      <td>False</td>\n",
       "      <td>1000082.0</td>\n",
       "    </tr>\n",
       "    <tr>\n",
       "      <th>2</th>\n",
       "      <td>05-08-2024 09:00</td>\n",
       "      <td>general_dentist</td>\n",
       "      <td>john doe</td>\n",
       "      <td>False</td>\n",
       "      <td>1000048.0</td>\n",
       "    </tr>\n",
       "    <tr>\n",
       "      <th>3</th>\n",
       "      <td>05-08-2024 09:30</td>\n",
       "      <td>general_dentist</td>\n",
       "      <td>john doe</td>\n",
       "      <td>False</td>\n",
       "      <td>1000036.0</td>\n",
       "    </tr>\n",
       "    <tr>\n",
       "      <th>4</th>\n",
       "      <td>05-08-2024 10:00</td>\n",
       "      <td>general_dentist</td>\n",
       "      <td>john doe</td>\n",
       "      <td>False</td>\n",
       "      <td>1000024.0</td>\n",
       "    </tr>\n",
       "  </tbody>\n",
       "</table>\n",
       "</div>"
      ],
      "text/plain": [
       "          date_slot   specialization doctor_name  is_available  \\\n",
       "0  05-08-2024 08:00  general_dentist    john doe          True   \n",
       "1  05-08-2024 08:30  general_dentist    john doe         False   \n",
       "2  05-08-2024 09:00  general_dentist    john doe         False   \n",
       "3  05-08-2024 09:30  general_dentist    john doe         False   \n",
       "4  05-08-2024 10:00  general_dentist    john doe         False   \n",
       "\n",
       "   patient_to_attend  \n",
       "0                NaN  \n",
       "1          1000082.0  \n",
       "2          1000048.0  \n",
       "3          1000036.0  \n",
       "4          1000024.0  "
      ]
     },
     "execution_count": 2,
     "metadata": {},
     "output_type": "execute_result"
    }
   ],
   "source": [
    "import pandas as pd\n",
    "df = pd.read_csv(\"/home/brian/Documents/JIM/Doctor Appointment Multiagent/data/doctor_availability.csv\")\n",
    "df.head()"
   ]
  },
  {
   "cell_type": "code",
   "execution_count": null,
   "id": "76456579",
   "metadata": {},
   "outputs": [],
   "source": []
  }
 ],
 "metadata": {
  "kernelspec": {
   "display_name": "env",
   "language": "python",
   "name": "python3"
  },
  "language_info": {
   "codemirror_mode": {
    "name": "ipython",
    "version": 3
   },
   "file_extension": ".py",
   "mimetype": "text/x-python",
   "name": "python",
   "nbconvert_exporter": "python",
   "pygments_lexer": "ipython3",
   "version": "3.10.13"
  }
 },
 "nbformat": 4,
 "nbformat_minor": 5
}
