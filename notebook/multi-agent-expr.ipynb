{
 "cells": [
  {
   "cell_type": "code",
   "execution_count": null,
   "id": "d9f75c60",
   "metadata": {},
   "outputs": [
    {
     "name": "stdout",
     "output_type": "stream",
     "text": [
      "Hello! 👋  How can I help you today?\n",
      "\n"
     ]
    }
   ],
   "source": [
    "import os\n",
    "from langchain_groq import ChatGroq\n",
    "from langchain_openai import ChatOpenAI\n",
    "from dotenv import load_dotenv\n",
    "load_dotenv()\n",
    "\n",
    "#loading and setting keys as envronment varibales\n",
    "OPENAI_API_KEY = os.getenv(\"OPENAI_API_KEY\")\n",
    "os.environ['OPENAI_API_KEY'] = OPENAI_API_KEY\n",
    "QROQ_API_KEY = os.getenv(\"GROQ_API_KEY\")\n",
    "os.environ['QROQ_API_KEY'] = QROQ_API_KEY\n",
    "\n",
    "class LLMModel:\n",
    "    def __init__(self, model_name = 'gemma2-9b-it'):\n",
    "        if not model_name:\n",
    "            raise ValueError(\"Model is not defined\")\n",
    "        self.model_name = model_name\n",
    "        self.groq_model = ChatGroq(model=model_name)\n",
    "\n",
    "    def get_model(self):\n",
    "        return self.groq_model\n",
    "    \n",
    "if __name__ == \"__main__\":\n",
    "    llm_instance = LLMModel()\n",
    "    llm_model = llm_instance.get_model()\n",
    "    response = llm_model.invoke(\"hello \")\n",
    "\n",
    "\n",
    "    print(response.content)"
   ]
  },
  {
   "cell_type": "code",
   "execution_count": 3,
   "id": "76456579",
   "metadata": {},
   "outputs": [],
   "source": [
    "import re\n",
    "from pydantic import BaseModel, Field, field_validator\n",
    "class DateTimeModel(BaseModel):\n",
    "    date: str = Field(description=\"properly formated date\", pattern=r'^\\d{2}-\\d{2}-\\d{4} \\d{2}:\\d{2}$')\n",
    "    @field_validator(\"date\")\n",
    "    def check_date_fromat(cls, v):\n",
    "        if not re.match(r'^\\d{2}-\\d{2}-\\d{4} \\d{2}:\\d{2}$', v):\n",
    "            raise ValueError(\"The date should be in format 'DD-MM-YYYY HH:MM'\")\n",
    "        return v\n"
   ]
  },
  {
   "cell_type": "code",
   "execution_count": null,
   "id": "227cb18e",
   "metadata": {},
   "outputs": [],
   "source": []
  }
 ],
 "metadata": {
  "kernelspec": {
   "display_name": "env",
   "language": "python",
   "name": "python3"
  },
  "language_info": {
   "codemirror_mode": {
    "name": "ipython",
    "version": 3
   },
   "file_extension": ".py",
   "mimetype": "text/x-python",
   "name": "python",
   "nbconvert_exporter": "python",
   "pygments_lexer": "ipython3",
   "version": "3.10.13"
  }
 },
 "nbformat": 4,
 "nbformat_minor": 5
}
